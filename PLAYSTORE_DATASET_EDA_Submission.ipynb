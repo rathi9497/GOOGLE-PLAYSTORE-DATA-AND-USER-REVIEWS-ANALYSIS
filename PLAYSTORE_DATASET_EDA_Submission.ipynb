{
  "nbformat": 4,
  "nbformat_minor": 0,
  "metadata": {
    "colab": {
      "private_outputs": true,
      "provenance": [],
      "collapsed_sections": [
        "gIfDvo9L0UH2"
      ],
      "gpuType": "T4",
      "include_colab_link": true
    },
    "kernelspec": {
      "name": "python3",
      "display_name": "Python 3"
    },
    "language_info": {
      "name": "python"
    },
    "accelerator": "GPU"
  },
  "cells": [
    {
      "cell_type": "markdown",
      "metadata": {
        "id": "view-in-github",
        "colab_type": "text"
      },
      "source": [
        "<a href=\"https://colab.research.google.com/github/rathi9497/GOOGLE-PLAYSTORE-DATA-AND-USER-REVIEWS-ANALYSIS/blob/main/PLAYSTORE_DATASET_EDA_Submission.ipynb\" target=\"_parent\"><img src=\"https://colab.research.google.com/assets/colab-badge.svg\" alt=\"Open In Colab\"/></a>"
      ]
    },
    {
      "cell_type": "markdown",
      "source": [
        "##### **Project Type**    - EDA\n",
        "##### **Contribution**    - Individual\n",
        "##### **Team Member 1 -**  - Prathamesh Anil Rathi\n"
      ],
      "metadata": {
        "id": "beRrZCGUAJYm"
      }
    },
    {
      "cell_type": "markdown",
      "source": [
        "# **Project Name**    -\n",
        "GOOGLE PLAYSTORE DATA AND USER REVIEWS ANALYSIS\n",
        "\n"
      ],
      "metadata": {
        "id": "vncDsAP0Gaoa"
      }
    },
    {
      "cell_type": "markdown",
      "source": [
        "# **Project Summary -**"
      ],
      "metadata": {
        "id": "FJNUwmbgGyua"
      }
    },
    {
      "cell_type": "markdown",
      "source": [
        "Google playstore aplication and mobile application reviews are everywhere. It is easy to create and because of these factor day by day more and more apps are being developed. In this notebook I am going to analyse the playstore application data and its user reviews around 10,000's of apps. Here we compare apps with different categories . We analyse playstore data based on reviews and rating and try to look at free and paid application reviews and rating , avarage rating , highest rating , minimum rating.\n",
        "\n",
        "here we look for insites in data which can help in drive for the success of apps.\n",
        "\n",
        "the are two dataset are given that is google playstore data and its user reviws data ."
      ],
      "metadata": {
        "id": "F6v_1wHtG2nS"
      }
    },
    {
      "cell_type": "markdown",
      "source": [
        "# **GitHub Link -**"
      ],
      "metadata": {
        "id": "w6K7xa23Elo4"
      }
    },
    {
      "cell_type": "markdown",
      "source": [
        "https://github.com/rathi9497/GOOGLE-PLAYSTORE-DATA-AND-USER-REVIEWS-ANALYSIS"
      ],
      "metadata": {
        "id": "h1o69JH3Eqqn"
      }
    },
    {
      "cell_type": "markdown",
      "source": [
        "# **Problem Statement**\n"
      ],
      "metadata": {
        "id": "yQaldy8SH6Dl"
      }
    },
    {
      "cell_type": "markdown",
      "source": [
        "What are the top categories on Play Store? Are majority of the apps Paid or Free? How important is the rating of the application? Which categories from the audience should the app be based on? Which category has the most no. of installations? How does the count of apps varies by Genres? How does the last update has an effect on the rating? How are ratings affected when the app is a paid one? How are reviews and ratings co-related? Lets us discuss the sentiment subjectivity. Is subjectivity and polarity proportional to each other? What is the percentage of review sentiments?\n"
      ],
      "metadata": {
        "id": "DpeJGUA3kjGy"
      }
    },
    {
      "cell_type": "markdown",
      "source": [
        "# **Define Your Business Objective?**"
      ],
      "metadata": {
        "id": "PH-0ReGfmX4f"
      }
    },
    {
      "cell_type": "markdown",
      "source": [
        "\n",
        "Our bussiness objective is to find the problem behind the bad review and sort out the problem and main goal is to get good rating and reviews from the user to get better stand in the market. We also have to get good rating, good reviews , maximize our download, and improve our apps proformance based on the customer reviews and sentiment analysis."
      ],
      "metadata": {
        "id": "PhDvGCAqmjP1"
      }
    },
    {
      "cell_type": "markdown",
      "source": [
        "# **General Guidelines** : -  "
      ],
      "metadata": {
        "id": "mDgbUHAGgjLW"
      }
    },
    {
      "cell_type": "markdown",
      "source": [
        "1.   Well-structured, formatted, and commented code is required.\n",
        "2.   Exception Handling, Production Grade Code & Deployment Ready Code will be a plus. Those students will be awarded some additional credits.\n",
        "     \n",
        "     The additional credits will have advantages over other students during Star Student selection.\n",
        "       \n",
        "             [ Note: - Deployment Ready Code is defined as, the whole .ipynb notebook should be executable in one go\n",
        "                       without a single error logged. ]\n",
        "\n",
        "3.   Each and every logic should have proper comments.\n",
        "4. You may add as many number of charts you want. Make Sure for each and every chart the following format should be answered.\n",
        "        \n",
        "\n",
        "```\n",
        "# Chart visualization code\n",
        "```\n",
        "            \n",
        "\n",
        "*   Why did you pick the specific chart?\n",
        "*   What is/are the insight(s) found from the chart?\n",
        "* Will the gained insights help creating a positive business impact?\n",
        "Are there any insights that lead to negative growth? Justify with specific reason.\n",
        "\n",
        "5. You have to create at least 20 logical & meaningful charts having important insights.\n",
        "\n",
        "\n",
        "[ Hints : - Do the Vizualization in  a structured way while following \"UBM\" Rule.\n",
        "\n",
        "U - Univariate Analysis,\n",
        "\n",
        "B - Bivariate Analysis (Numerical - Categorical, Numerical - Numerical, Categorical - Categorical)\n",
        "\n",
        "M - Multivariate Analysis\n",
        " ]\n",
        "\n",
        "\n",
        "\n"
      ],
      "metadata": {
        "id": "ZrxVaUj-hHfC"
      }
    },
    {
      "cell_type": "markdown",
      "source": [
        "# ***Let's Begin !***"
      ],
      "metadata": {
        "id": "O_i_v8NEhb9l"
      }
    },
    {
      "cell_type": "markdown",
      "source": [
        "## ***1. Know Your Data***"
      ],
      "metadata": {
        "id": "HhfV-JJviCcP"
      }
    },
    {
      "cell_type": "markdown",
      "source": [
        "### Import Libraries"
      ],
      "metadata": {
        "id": "Y3lxredqlCYt"
      }
    },
    {
      "cell_type": "code",
      "source": [
        "# Import Libraries\n",
        "import pandas as pd\n",
        "import numpy as np\n",
        "import matplotlib.pyplot as plt\n",
        "from datetime import datetime\n",
        "%matplotlib inline\n",
        "import seaborn as sns"
      ],
      "metadata": {
        "id": "M8Vqi-pPk-HR"
      },
      "execution_count": null,
      "outputs": []
    },
    {
      "cell_type": "markdown",
      "source": [
        "### Dataset Loading"
      ],
      "metadata": {
        "id": "3RnN4peoiCZX"
      }
    },
    {
      "cell_type": "code",
      "source": [
        "# Load Dataset\n",
        "#  first we have to import drive if our data is in google drive\n",
        "from google.colab import drive\n",
        "drive.mount('/content/drive')"
      ],
      "metadata": {
        "id": "4CkvbW_SlZ_R"
      },
      "execution_count": null,
      "outputs": []
    },
    {
      "cell_type": "code",
      "source": [
        "# load dataset\n",
        "playstore_data_file = '/content/drive/MyDrive/data/Play Store Data.csv'\n",
        "user_review_file = '/content/drive/MyDrive/data/User Reviews.csv'\n",
        "\n",
        "playstore_data = pd.read_csv(playstore_data_file)\n",
        "user_review_data = pd.read_csv(user_review_file)"
      ],
      "metadata": {
        "id": "VhyTHC2vDJs9"
      },
      "execution_count": null,
      "outputs": []
    },
    {
      "cell_type": "markdown",
      "source": [
        "# Dataset First View"
      ],
      "metadata": {
        "id": "u7ZoI4wileV0"
      }
    },
    {
      "cell_type": "code",
      "source": [
        "# Dataset First Look\n",
        "# head function give us the top 5 row of data and tail function botton 5 rows\n",
        "pd.concat([playstore_data.head(),playstore_data.tail()])"
      ],
      "metadata": {
        "id": "hs25wbuBEI48"
      },
      "execution_count": null,
      "outputs": []
    },
    {
      "cell_type": "markdown",
      "source": [
        "**Dataset Rows & Columns coun**t"
      ],
      "metadata": {
        "id": "WSPjqbSMmBOs"
      }
    },
    {
      "cell_type": "code",
      "source": [
        "# Dataset Rows & Columns count\n",
        "print(playstore_data.columns)\n",
        "rows = playstore_data.shape[0]\n",
        "column = playstore_data.shape[1]\n",
        "print('')\n",
        "print(f'the number of rows is {rows} and column is {column} .')"
      ],
      "metadata": {
        "id": "Kt1_GXmgEXwg"
      },
      "execution_count": null,
      "outputs": []
    },
    {
      "cell_type": "markdown",
      "source": [
        " **Dataset Information**"
      ],
      "metadata": {
        "id": "olXmXFfimXLa"
      }
    },
    {
      "cell_type": "code",
      "source": [
        "# Dataset Info\n",
        "playstore_data.info()"
      ],
      "metadata": {
        "id": "pMhMLtcOEkIC"
      },
      "execution_count": null,
      "outputs": []
    },
    {
      "cell_type": "markdown",
      "source": [
        "**Duplicate Values**"
      ],
      "metadata": {
        "id": "qTh0nwoAmo3f"
      }
    },
    {
      "cell_type": "code",
      "source": [
        "# Dataset Duplicate Value Count\n",
        "playstore_data[playstore_data.duplicated()]"
      ],
      "metadata": {
        "id": "XF3pwkiuEtK5"
      },
      "execution_count": null,
      "outputs": []
    },
    {
      "cell_type": "markdown",
      "source": [
        "**Missing Values/Null Values**"
      ],
      "metadata": {
        "id": "40apD9B2my__"
      }
    },
    {
      "cell_type": "code",
      "source": [
        "# Missing Values/Null Values Count\n",
        "def playstore_info():\n",
        "  temp = pd.DataFrame(index=playstore_data.columns)\n",
        "  temp['data_types'] = playstore_data.dtypes\n",
        "  temp['not null value'] = playstore_data.count()\n",
        "  temp['null values'] = playstore_data.isnull().sum()\n",
        "  temp['%of null value'] = playstore_data.isnull().mean()\n",
        "  temp['unique count'] = playstore_data.nunique()\n",
        "  return temp\n",
        "\n",
        "playstore_info()"
      ],
      "metadata": {
        "id": "MOtBxevmE0_e"
      },
      "execution_count": null,
      "outputs": []
    },
    {
      "cell_type": "markdown",
      "source": [
        "Lets first deal with the columns which contains lesser number of NaN values. By going to drop these nan containg row because of lesser number of row in nan."
      ],
      "metadata": {
        "id": "hSeeiphMkzpC"
      }
    },
    {
      "cell_type": "code",
      "source": [
        "playstore_data['App'].value_counts()"
      ],
      "metadata": {
        "id": "UPMvTSvdFFX9"
      },
      "execution_count": null,
      "outputs": []
    },
    {
      "cell_type": "code",
      "source": [
        "# dropping duplicates from the 'App' column.\n",
        "playstore_data.drop_duplicates(subset = 'App', inplace = True)\n",
        "playstore_data.shape"
      ],
      "metadata": {
        "id": "dyz7CSZLFL4c"
      },
      "execution_count": null,
      "outputs": []
    },
    {
      "cell_type": "code",
      "source": [
        "#  now there is no any duplicates found\n",
        "playstore_data[playstore_data['App'].duplicated()]"
      ],
      "metadata": {
        "id": "k9pgi4NpFNBE"
      },
      "execution_count": null,
      "outputs": []
    },
    {
      "cell_type": "code",
      "source": [
        "# The rows containing NaN values in the Android Ver column\n",
        "playstore_data[playstore_data['Android Ver'].isnull()]"
      ],
      "metadata": {
        "id": "1fF9uCKjFQlL"
      },
      "execution_count": null,
      "outputs": []
    },
    {
      "cell_type": "code",
      "source": [
        "# dropping rows corresponding to the to the NaN values in the 'Android Ver' column.\n",
        "playstore_data=playstore_data[playstore_data['Android Ver'].notna()]\n",
        "# Shape of the updated dataframe\n",
        "playstore_data.shape"
      ],
      "metadata": {
        "id": "yiiZCBSEFW9H"
      },
      "execution_count": null,
      "outputs": []
    },
    {
      "cell_type": "code",
      "source": [
        "# The rows containing NaN values in the Current Ver column.\n",
        "playstore_data[playstore_data['Current Ver'].isnull()]"
      ],
      "metadata": {
        "id": "JfGI3YB7FbhI"
      },
      "execution_count": null,
      "outputs": []
    },
    {
      "cell_type": "code",
      "source": [
        "# dropping rows corresponding to the values which contain NaN in the column 'Current Ver'.\n",
        "playstore_data = playstore_data[playstore_data['Current Ver'].notna()]\n",
        "# Shape of the updated dataframe\n",
        "playstore_data.shape"
      ],
      "metadata": {
        "id": "QMVjFSIXFfm0"
      },
      "execution_count": null,
      "outputs": []
    },
    {
      "cell_type": "code",
      "source": [
        "# there is only one nan value in type column\n",
        "playstore_data[playstore_data['Type'].isnull()]"
      ],
      "metadata": {
        "id": "hGSbORg6Fkge"
      },
      "execution_count": null,
      "outputs": []
    },
    {
      "cell_type": "code",
      "source": [
        "# Replacing the nan value in 'Type' column corresponding to row index 9148 with 'Free'\n",
        "playstore_data.loc[9148,'Type'] = 'Free'"
      ],
      "metadata": {
        "id": "yz9fWgtcFnYr"
      },
      "execution_count": null,
      "outputs": []
    },
    {
      "cell_type": "code",
      "source": [
        "playstore_data[playstore_data['Type'].isnull()]"
      ],
      "metadata": {
        "id": "36Dovrv2FtIc"
      },
      "execution_count": null,
      "outputs": []
    },
    {
      "cell_type": "code",
      "source": [
        "# Visualizing the missing values\n",
        "plt.figure(figsize=(12,6))\n",
        "sns.heatmap(playstore_data.isnull())"
      ],
      "metadata": {
        "id": "ZbvMxIugFxZ3"
      },
      "execution_count": null,
      "outputs": []
    },
    {
      "cell_type": "markdown",
      "source": [
        "**What did you know about your dataset?**\n",
        "\n",
        "Playstore apps data is given to analyse and get some insights to improve the sucess drive for the application. Here 13 columns is given in data category wise application rating and reviews and two type of application that is free or paid. Current version , android version and last updated history is given. Here we tried to know the data and got some correlation in data . Which we did not got till now. So we have to change the datatype in (int or float) of all other column which contain numerical values and we also found the number of null values are: Rating has 1474 null values which contributes 13.60% of the data.  We cannot drop them because it effect our data set in getting insights."
      ],
      "metadata": {
        "id": "5mO1Vl5lGKnZ"
      }
    },
    {
      "cell_type": "markdown",
      "source": [
        "# *2. Understanding Your Variables*"
      ],
      "metadata": {
        "id": "Aan2uLDFnIRI"
      }
    },
    {
      "cell_type": "code",
      "source": [
        "# Dataset Columns\n",
        "playstore_data.columns"
      ],
      "metadata": {
        "id": "1eW8GduTGYYa"
      },
      "execution_count": null,
      "outputs": []
    },
    {
      "cell_type": "code",
      "source": [
        "# Dataset Describe\n",
        "playstore_data.describe()"
      ],
      "metadata": {
        "id": "-zGPVJ28Gb0-"
      },
      "execution_count": null,
      "outputs": []
    },
    {
      "cell_type": "markdown",
      "source": [
        "**Variables Description**\n",
        "\n",
        "Column information in dataset:-\n",
        "\n",
        "1.App - It tells us about the name of the application with a short description\n",
        "\n",
        "2.Category - It gives the category to the app.\n",
        "\n",
        "3.Rating - It contains the average rating the respective app received from its users.\n",
        "\n",
        "4.Reviews - It tells us about the total number of users who have given a review for the application.\n",
        "\n",
        "5.Size - It tells us about the size being occupied the application on the mobile phone.\n",
        "\n",
        "6.Installs - It tells us about the total number of installs/downloads for an application.\n",
        "\n",
        "7.Type - It states whether an app is free to use or paid.\n",
        "\n",
        "8.Price - It gives the price payable to install the app. For free type apps, the price is zero.\n",
        "\n",
        "9.Content Rating - It states whether or not an app is suitable for all age groups or not.\n",
        "\n",
        "10.Genres - It tells us about the various other categories to which an application can belong.\n",
        "\n",
        "11.Last Updated - It tells us about the when the application was updated.\n",
        "\n",
        "12.Current Ver - It tells us about the current version of the application.\n",
        "\n",
        "13.Android Ver - It tells us about the android version"
      ],
      "metadata": {
        "id": "LlKjmxwRGmcy"
      }
    },
    {
      "cell_type": "markdown",
      "source": [
        "**Check Unique Values for each variable.**"
      ],
      "metadata": {
        "id": "HkBi9vaAn1q3"
      }
    },
    {
      "cell_type": "code",
      "source": [
        "# Check Unique Values for each variable.\n",
        "\n",
        "def unique_value():\n",
        "  temp1 = pd.DataFrame(index=playstore_data.columns)\n",
        "  temp1['unique_value_count'] = playstore_data.nunique()\n",
        "  return temp1\n",
        "\n",
        "unique_value()"
      ],
      "metadata": {
        "id": "g8NRwAVmHAhl"
      },
      "execution_count": null,
      "outputs": []
    },
    {
      "cell_type": "markdown",
      "source": [
        "# 3. *Data Wrangling*"
      ],
      "metadata": {
        "id": "hypeMGFOoJeB"
      }
    },
    {
      "cell_type": "markdown",
      "source": [
        "**Data Wrangling Code**"
      ],
      "metadata": {
        "id": "WYYDMfm_oM6K"
      }
    },
    {
      "cell_type": "code",
      "source": [
        "# Write your code to make your dataset analysis ready.\n",
        "  # Changing the datatype of the Last Updated column from string to datetime.\n",
        "playstore_data['Last Updated']=pd.to_datetime(playstore_data[\"Last Updated\"])\n",
        "playstore_data.head()"
      ],
      "metadata": {
        "id": "Oj7jU-6oHJw2"
      },
      "execution_count": null,
      "outputs": []
    },
    {
      "cell_type": "code",
      "source": [
        "#  changing the datatype of 'Reviews' column  to int\n",
        "playstore_data['Reviews'] = playstore_data['Reviews'].astype(int)\n",
        "playstore_data.head()"
      ],
      "metadata": {
        "id": "Mlk9vvO9HMah"
      },
      "execution_count": null,
      "outputs": []
    },
    {
      "cell_type": "code",
      "source": [
        "# Converting the values in theSizecolumn to a same unit of measure(MB)\n",
        "playstore_data['Size'].value_counts()"
      ],
      "metadata": {
        "id": "EIvnhZnZHQ2A"
      },
      "execution_count": null,
      "outputs": []
    },
    {
      "cell_type": "markdown",
      "source": [
        "### Dataset Information"
      ],
      "metadata": {
        "id": "JlHwYmJAmNHm"
      }
    },
    {
      "cell_type": "markdown",
      "source": [
        "We can see that the values in the Size column contains data with different units. 'M' stands for MB and 'k' stands for KB. To easily analyse this column, it is necessary to convert all the values to a single unit. In this case, we will convert all the units to MB.\n",
        "\n",
        "We know that 1MB = 1024KB, to convert KB to MB, we must divide all the values which are in KB by 1024"
      ],
      "metadata": {
        "id": "G3mJQOChHY6l"
      }
    },
    {
      "cell_type": "code",
      "source": [
        "# function to convert all the entries in KB to MB and then converting them to float datatype.\n",
        "\n",
        "def convert_kb_to_mb(val):\n",
        "  '''\n",
        "  This function converts all the valid entries in KB to MB and returns the result in float datatype.\n",
        "  '''\n",
        "  try:\n",
        "    if 'M' in val:\n",
        "      return float(val[:-1])\n",
        "    elif 'k' in val:\n",
        "      return round(float(val[:-1])/1024, 4)\n",
        "    else:\n",
        "      return val\n",
        "  except:\n",
        "    return val"
      ],
      "metadata": {
        "id": "ZsyBYggiHa8S"
      },
      "execution_count": null,
      "outputs": []
    },
    {
      "cell_type": "code",
      "source": [
        "playstore_data['Size']=playstore_data['Size'].apply(lambda x: convert_kb_to_mb(x))\n",
        "playstore_data.head()"
      ],
      "metadata": {
        "id": "s9BEr23nHfJi"
      },
      "execution_count": null,
      "outputs": []
    },
    {
      "cell_type": "code",
      "source": [
        "# now i am converting 'varies with device' to 'Nan' value\n",
        "playstore_data['Size'] = playstore_data['Size'].apply(lambda x: str(x).replace('Varies with device', 'NaN') if 'Varies with device' in str(x) else x)\n",
        "playstore_data['Size'] = playstore_data['Size'].apply(lambda x: float(x))"
      ],
      "metadata": {
        "id": "i6KkiRLyHj2b"
      },
      "execution_count": null,
      "outputs": []
    },
    {
      "cell_type": "code",
      "source": [
        "#  now here we can see that the size column 'varies with device is replaced with' 'nan'\n",
        "playstore_data[playstore_data['Size'].isnull()].head()"
      ],
      "metadata": {
        "id": "9H3u1TShHoN2"
      },
      "execution_count": null,
      "outputs": []
    },
    {
      "cell_type": "code",
      "source": [
        "# Finding max, min, mean, and median in the Size column.\n",
        "\n",
        "max_size = playstore_data['Size'].max()\n",
        "min_size = playstore_data['Size'].min()\n",
        "mean_size = round(playstore_data['Size'].mean(),4)\n",
        "median_size = playstore_data['Size'].median()\n",
        "\n",
        "[max_size, min_size, mean_size, median_size]"
      ],
      "metadata": {
        "id": "Gz0xWwNGHsN3"
      },
      "execution_count": null,
      "outputs": []
    },
    {
      "cell_type": "code",
      "source": [
        "# making a function for for removing '+'\n",
        "\n",
        "def convert_plus(val):\n",
        "  '''\n",
        "  This function drops the + symbol if present and returns the value with int datatype.\n",
        "  '''\n",
        "  if '+' and ',' in val:\n",
        "    new = int(val[:-1].replace(',',''))\n",
        "    return new\n",
        "  elif '+' in val:\n",
        "    new1 = int(val[:-1])\n",
        "    return new1\n",
        "  else:\n",
        "    return int(val)"
      ],
      "metadata": {
        "id": "EB5g3Y5aHwMe"
      },
      "execution_count": null,
      "outputs": []
    },
    {
      "cell_type": "code",
      "source": [
        "#  now after apply convert function '+' is removed\n",
        "\n",
        "playstore_data['Installs']=playstore_data['Installs'].apply(lambda x : convert_plus(x))"
      ],
      "metadata": {
        "id": "4Ww0T-KRH0Ie"
      },
      "execution_count": null,
      "outputs": []
    },
    {
      "cell_type": "code",
      "source": [
        "playstore_data.head()"
      ],
      "metadata": {
        "id": "thMWdGktH3TG"
      },
      "execution_count": null,
      "outputs": []
    },
    {
      "cell_type": "code",
      "source": [
        "# Changing the datatype of the 'Price' column from string to float\n",
        "playstore_data['Price'].value_counts()"
      ],
      "metadata": {
        "id": "RfMvG8rSH66I"
      },
      "execution_count": null,
      "outputs": []
    },
    {
      "cell_type": "code",
      "source": [
        "#  making function for removing '$' and changing datatype of column 'price'\n",
        "def replace_dollor(val):\n",
        "  if '$' in val:\n",
        "    new = float(val.replace('$',''))\n",
        "    return new\n",
        "  else:\n",
        "    return float(val)"
      ],
      "metadata": {
        "id": "s5UBRF9YH_l2"
      },
      "execution_count": null,
      "outputs": []
    },
    {
      "cell_type": "code",
      "source": [
        "playstore_data['Price'] = playstore_data['Price'].apply(lambda x:replace_dollor(x))"
      ],
      "metadata": {
        "id": "P_7o6DQ7IChT"
      },
      "execution_count": null,
      "outputs": []
    },
    {
      "cell_type": "code",
      "source": [
        "playstore_data.info()"
      ],
      "metadata": {
        "id": "k8OiHwLKIGWB"
      },
      "execution_count": null,
      "outputs": []
    },
    {
      "cell_type": "code",
      "source": [
        "playstore_data.describe()"
      ],
      "metadata": {
        "id": "EYptxcHsIJEg"
      },
      "execution_count": null,
      "outputs": []
    },
    {
      "cell_type": "code",
      "source": [
        "playstore_data.corr()"
      ],
      "metadata": {
        "id": "lU4zTkZiIMza"
      },
      "execution_count": null,
      "outputs": []
    },
    {
      "cell_type": "code",
      "source": [
        "# Visualizing the correlation\n",
        "plt.figure(figsize=(12,6))\n",
        "sns.heatmap(playstore_data.corr(),annot=True)\n",
        "plt.title('correlation of heatmap for playstore data',size =20)"
      ],
      "metadata": {
        "id": "aQ_dACu4IPjU"
      },
      "execution_count": null,
      "outputs": []
    },
    {
      "cell_type": "markdown",
      "source": [
        "-1 means if one column(variable) is present, the other is almost certainly absent (AKA: strong negative correlation, or yellow color)\n",
        "\n",
        "-0 means there is no dependence between the columns(variables)\n",
        "\n",
        "-1 means if one column(variable) is present, the other is also certainly present.\n",
        "\n",
        "The Price is slightly negatively correlated with the Rating, Reviews, and Installs. This means that as the prices of the app increases, the average rating, total number of reviews and Installs fall slightly. The Rating is slightly positively correlated with the Installs and Reviews column. This indicates that as the the average user rating increases, the app installs and number of reviews also increase.\n",
        "\n",
        "Now that we have handled the errors and NaN values in the playstoredata.csv file, lets do the same for the userreviews.csv file."
      ],
      "metadata": {
        "id": "o0qPN1GfIeDu"
      }
    },
    {
      "cell_type": "code",
      "source": [
        "# showing the top 5 rows\n",
        "user_review_data.head()"
      ],
      "metadata": {
        "id": "g8hOsrFIIff4"
      },
      "execution_count": null,
      "outputs": []
    },
    {
      "cell_type": "code",
      "source": [
        "user_review_data.info()"
      ],
      "metadata": {
        "id": "iPN6Qn-XIiqO"
      },
      "execution_count": null,
      "outputs": []
    },
    {
      "cell_type": "code",
      "source": [
        "# Checking shape and column in dataframe\n",
        "print(user_review_data.columns)\n",
        "rows=user_review_data.shape[0]\n",
        "columns=user_review_data.shape[1]\n",
        "print('')\n",
        "print(f\"the no. of rows is {rows} and no. of columns is {columns}\")"
      ],
      "metadata": {
        "id": "fK2EiJgMImEC"
      },
      "execution_count": null,
      "outputs": []
    },
    {
      "cell_type": "markdown",
      "source": [
        "The no. of rows is 64295 and no. of columns is 5.\n",
        "Defining the variable or column what we got from the user reviews dataset\n",
        "\n",
        "App: Contains the name of the app with a short description (optional).\n",
        "\n",
        "Translated_Review: It contains the English translation of the review dropped by the user of the app.\n",
        "\n",
        "Sentiment: It gives the attitude/emotion of the writer. It can be ‘Positive’, ‘Negative’, or ‘Neutral’.\n",
        "\n",
        "Sentiment_Polarity: It gives the polarity of the review. Its range is [-1,1], where 1 means ‘Positive statement’ and -1 means a ‘Negative statement’.\n",
        "\n",
        "Sentiment_Subjectivity: This value gives how close a reviewers opinion is to the opinion of the general public. Its range is [0,1]. Higher the subjectivity, closer is the reviewers opinion to the opinion of the general public, and lower subjectivity indicates the review is more of a factual information."
      ],
      "metadata": {
        "id": "J-0JpA5YIu1N"
      }
    },
    {
      "cell_type": "code",
      "source": [
        "#  now i am trying to find null/missing values , count, unique and datatype of user_review data\n",
        "\n",
        "def u_r_info():\n",
        "  temp2 = pd.DataFrame(index=user_review_data.columns)\n",
        "  temp2['dtypes']  = user_review_data.dtypes\n",
        "  temp2['not null value'] = user_review_data.count()\n",
        "  temp2['null value'] = user_review_data.isnull().sum()\n",
        "  temp2['%of null value'] = user_review_data.isnull().mean().round(4)*100\n",
        "  temp2['unique_value'] = user_review_data.nunique()\n",
        "  return temp2\n",
        "\n",
        "u_r_info()"
      ],
      "metadata": {
        "id": "GeaoRw_3Iv3w"
      },
      "execution_count": null,
      "outputs": []
    },
    {
      "cell_type": "markdown",
      "source": [
        "We found that Translated_Review has 26868 null values which contributes 41.79% of the data.\n",
        "\n",
        "Sentiment has 26863 null values which contributes 41.78% of the data.\n",
        "\n",
        "Sentiment_Polarity has 26863 null values which contributes 41.78% of the data.\n",
        "\n",
        "Sentiment_Subjectivity has 26863 null values which contributes 41.78% of the data.\n",
        "\n",
        "There are a lot of NaN values. We need to analyse these values and see how we can handle them."
      ],
      "metadata": {
        "id": "6blhOgchI6tv"
      }
    },
    {
      "cell_type": "code",
      "source": [
        "# The rows corresponding to the NaN values in the translated_review column, where the rest of the columns are non null.\n",
        "user_review_data[user_review_data['Translated_Review'].isnull() & user_review_data['Sentiment'].notna()]"
      ],
      "metadata": {
        "id": "kXfPZOcOI757"
      },
      "execution_count": null,
      "outputs": []
    },
    {
      "cell_type": "markdown",
      "source": [
        "In the few exceptional cases where the values of remaining columns are non null for null values in the translated_Review column, there seems to be errors. This is because the Sentiment, sentiment ploarity and sentiment subjectivity of the review can be determined if and only if there is a corresponding review.\n",
        "\n",
        "Hence these values are wrong and can be deleted all togather."
      ],
      "metadata": {
        "id": "w_ob2SkqJAHP"
      }
    },
    {
      "cell_type": "code",
      "source": [
        "# Deleting the rows containing NaN values\n",
        "user_review_data = user_review_data.dropna()"
      ],
      "metadata": {
        "id": "I62BX90nJC-b"
      },
      "execution_count": null,
      "outputs": []
    },
    {
      "cell_type": "code",
      "source": [
        "# The shape of the updated df\n",
        "user_review_data.shape"
      ],
      "metadata": {
        "id": "QnjQyPlEJHDA"
      },
      "execution_count": null,
      "outputs": []
    },
    {
      "cell_type": "code",
      "source": [
        "# Inspecting the sentiment column\n",
        "user_review_data['Sentiment'].value_counts()"
      ],
      "metadata": {
        "id": "0AW58c5TJJiS"
      },
      "execution_count": null,
      "outputs": []
    },
    {
      "cell_type": "markdown",
      "source": [
        "Now we sucessfully cleand the data and now we can visualize the data and come up with insight.\n",
        "\n",
        "What all manipulations have you done and insights you found?\n",
        "Here we have two given dataset playstore data and its user review data and we see that in the data there is many missing/ nan values in both dataset so first we inspect  how can we handle the nan and missing values after inspecting data. I have dropped some rows which containing nan or missing values then we saw that the datatypes of dataset column is string format but in actual there is numerical data . So I am going to convert all numerical data which is in str format to int or float for easy describe of data and its correlation between its variable or column .\n",
        "\n",
        "After inspecing in user reviews dataset we found that there is also huge amount of null value. so we inspect that null values rows and I drop all rows wich contain null values or nan values."
      ],
      "metadata": {
        "id": "tkdp9mo9JMoz"
      }
    },
    {
      "cell_type": "markdown",
      "source": [
        "# *4. Data Vizualization, Storytelling & Experimenting with charts : Understand the relationships between variables*"
      ],
      "metadata": {
        "id": "BMdqNFhDUN14"
      }
    },
    {
      "cell_type": "markdown",
      "source": [
        "#### Chart - 1"
      ],
      "metadata": {
        "id": "r8hWUq8JVfAI"
      }
    },
    {
      "cell_type": "code",
      "source": [
        "# What is the ratio of number of Paid apps and Free apps?\n",
        "data = playstore_data['Type'].value_counts()\n",
        "labels = ['Free','Paid']\n",
        "# create pie chart\n",
        "plt.figure(figsize=(6,6))\n",
        "plt.pie(data,labels=labels,colors=['r','b'],autopct='%.2f%%',explode=(0.01,0.1),textprops={'fontsize':15})\n",
        "plt.title('Distribution of Paid and Free apps',size=15,loc='center')\n",
        "plt.legend()"
      ],
      "metadata": {
        "id": "qYJEMhvUJY0U"
      },
      "execution_count": null,
      "outputs": []
    },
    {
      "cell_type": "markdown",
      "source": [
        "**1. Why did you pick the specific chart?**\n",
        "\n",
        "\n",
        "Pie charts show the size of items (called wedge) in one data series,proportional to the sum of the items. The data points in a pie chart are shown as a percentage of the whole pie\n",
        "\n",
        "**2. What is/are the insight(s) found from the chart?**\n",
        "\n",
        "We find that From the above graph we can see that 92% of apps in google play store are free and 8%are paid.\n",
        "\n",
        "**3. Will the gained insights help creating a positive business impact?**\n",
        "\n",
        "Are there any insights that lead to negative growth? Justify with specific reason.\n",
        "\n",
        "Yes it impacts the bussiness decision because it is enough to know that the apps in store are mostly free , very less amount of apps are paid  so we have\n",
        "to work on app to make apps free or less price and better."
      ],
      "metadata": {
        "id": "3Kwr2x0dJh5P"
      }
    },
    {
      "cell_type": "markdown",
      "source": [
        "#### Chart 2"
      ],
      "metadata": {
        "id": "1OqPhpWNWx5-"
      }
    },
    {
      "cell_type": "code",
      "source": [
        "print(playstore_data['Content Rating'].value_counts())\n",
        "data=playstore_data['Content Rating'].value_counts()\n",
        "data_key= data.keys()\n",
        "data_value= data.values\n",
        "graph = sns.barplot(x=data_key,y=data_value)\n",
        "graph.set_title('content rating ')\n",
        "plt.ylabel('number of apps used by people')\n",
        "graph.set_xticklabels(graph.get_xticklabels(),rotation=45)"
      ],
      "metadata": {
        "id": "aXTZEvIfJkZf"
      },
      "execution_count": null,
      "outputs": []
    },
    {
      "cell_type": "markdown",
      "source": [
        "**1. Why did you pick the specific chart?**\n",
        "\n",
        "Bar chart is showing each data category in a frequency distribution. It is used to summarize a large data set in visual form.It is easily understood due to widespread use in business and the media.\n",
        "\n",
        "**2. What is/are the insight(s) found from the chart?**\n",
        "\n",
        "I visualized the bar graph of playstore dataset of column content rating value counts which show that how many users of which category that is everyone,teen, unrated etc.\n",
        "A majority of the apps in the play store can be used by everyone.The remaining apps have various age restrictions\n",
        "\n",
        "**3. Will the gained insights help creating a positive business impact?**\n",
        "\n",
        "Are there any insights that lead to negative growth? Justify with specific reason.\n",
        "\n",
        "\n",
        "It can help to improve the decision to make the apps in which category, which types of apps is mostly used in , which types of apps used by everyone."
      ],
      "metadata": {
        "id": "i6UUkUkcntZW"
      }
    },
    {
      "cell_type": "markdown",
      "source": [
        "Chart 3"
      ],
      "metadata": {
        "id": "OjP7Mf-U1za3"
      }
    },
    {
      "cell_type": "code",
      "source": [
        "# count of Category which is availabe\n",
        "\n",
        "y= playstore_data['Category'].value_counts()\n",
        "x = playstore_data['Category'].value_counts().index\n",
        "plt.figure(figsize=(20,10))\n",
        "graph = sns.barplot(x=x,y=y,palette='tab10')\n",
        "plt.xlabel('category')\n",
        "plt.ylabel('count')\n",
        "graph.set_xticklabels(graph.get_xticklabels(), rotation= 45, horizontalalignment='right',);"
      ],
      "metadata": {
        "id": "WlbQk8g511Up"
      },
      "execution_count": null,
      "outputs": []
    },
    {
      "cell_type": "markdown",
      "source": [
        "**1. Why did you pick the specific chart?**\n",
        "\n",
        "This chart is better to visualise data category wise apps. It is widely use for readable representation.\n",
        "\n",
        "**2. What is/are the insight(s) found from the chart?**\n",
        "\n",
        "I found that the most of the apps on the playstore are from family category , game and at least are from beauty and comics.\n",
        "\n",
        "**3. Will the gained insights help creating a positive business impact?**\n",
        "\n",
        "Are there any insights that lead to negative growth? Justify with specific reason.\n",
        "\n",
        "Gained insights help creating a positive impact on bussiness is to decide to make a apps is from which category because most of the app on playstore are from family categories."
      ],
      "metadata": {
        "id": "HiZKwkVc18Yv"
      }
    },
    {
      "cell_type": "markdown",
      "source": [
        "Chart 4"
      ],
      "metadata": {
        "id": "dFlOMdiT194-"
      }
    },
    {
      "cell_type": "code",
      "source": [
        "# playstore_data['Type'].value_counts()\n",
        "x = playstore_data['Rating'].value_counts()\n",
        "y = playstore_data['Rating'].value_counts().index\n",
        "graph = sns.scatterplot(x=y,y=x)\n",
        "plt.xlabel('rating')\n",
        "plt.ylabel('count of rating')"
      ],
      "metadata": {
        "id": "W31tjA7F2AKG"
      },
      "execution_count": null,
      "outputs": []
    },
    {
      "cell_type": "markdown",
      "source": [
        "**1. Why did you pick the specific chart?**\n",
        "\n",
        "A scatter plot is a visual representation of how two variables relate to each other. You can use scatter plots to explore the relationship between two variables.\n",
        "\n",
        "**2. What is/are the insight(s) found from the chart?**\n",
        "\n",
        "We found that the maximum number of apps got the rating of 4 to 4.6 .\n",
        "\n",
        "**3. Will the gained insights help creating a positive business impact?**\n",
        "Are there any insights that lead to negative growth? Justify with specific reason.\n",
        "\n",
        "Yes, it can help creating a positive impact . We have to also check that the category of apps which got high rating will help us to make a decision to make apps in which category."
      ],
      "metadata": {
        "id": "k1cg5JP-2JiH"
      }
    },
    {
      "cell_type": "markdown",
      "source": [
        "Chart 5"
      ],
      "metadata": {
        "id": "SG1R8F2f2Kr7"
      }
    },
    {
      "cell_type": "code",
      "source": [
        "a = playstore_data.groupby(['Category'])['Installs'].sum().sort_values()\n",
        "a.plot.barh(figsize=(10,15))\n",
        "plt.ylabel('Total app Installs', fontsize = 15)\n",
        "plt.xlabel('App Categories', fontsize = 15)\n",
        "plt.xticks()\n",
        "plt.title('Total app installs in each category', fontsize = 18)"
      ],
      "metadata": {
        "id": "5H9aZjMf2Mff"
      },
      "execution_count": null,
      "outputs": []
    },
    {
      "cell_type": "markdown",
      "source": [
        "**1. Why did you pick the specific chart?**\n",
        "\n",
        "We use barh plots to visualize data in a horizontal bar chart format. A barh plot is a graphical representation of data using rectangular bars of equal width.The main advantage of using barh plots is that they allow for easy comparison of different categories or groups of data. The horizontal orientation of the bars also makes it easier to display labels for the categories along the y-axis, especially when the labels are long or numerous.\n",
        "\n",
        "**2. What is/are the insight(s) found from the chart?**\n",
        "\n",
        "This tells us the category of apps that has the maximum number of installs. The Game, Communication and Tools categories has the highest number of installs compared to other categories of apps.\n",
        "\n",
        "**3. Will the gained insights help creating a positive business impact? **\n",
        "\n",
        "Are there any insights that lead to negative growth? Justify with specific reason.\n",
        "\n",
        "It gives the better understandings to promotion of apps which will help in our bussiness contest."
      ],
      "metadata": {
        "id": "B9uvXtRG2ROD"
      }
    },
    {
      "cell_type": "markdown",
      "source": [
        "Chart 6"
      ],
      "metadata": {
        "id": "cKpY-ILg2V0P"
      }
    },
    {
      "cell_type": "code",
      "source": [
        "# What are the Top 10 installed apps in any category.\n",
        "def findtop10incategory(str):\n",
        "    str = str.upper()\n",
        "    top10 = playstore_data[playstore_data['Category'] == str]\n",
        "    top10apps = top10.sort_values(by='Installs', ascending=False).head(10)\n",
        "    plt.figure(figsize=(15,6), dpi=100)\n",
        "    plt.title('Top 10 Installed Apps',size = 20)\n",
        "    graph = sns.barplot(x = top10apps.App, y = top10apps.Installs, palette= \"icefire\")\n",
        "    graph.set_xticklabels(graph.get_xticklabels(), rotation= 45, horizontalalignment='right')"
      ],
      "metadata": {
        "id": "P8dXW1U92Xfg"
      },
      "execution_count": null,
      "outputs": []
    },
    {
      "cell_type": "code",
      "source": [
        "findtop10incategory(\"GAME\")"
      ],
      "metadata": {
        "id": "mwNcUWyS2gt9"
      },
      "execution_count": null,
      "outputs": []
    },
    {
      "cell_type": "markdown",
      "source": [
        "**1. Why did you pick the specific chart?**\n",
        "\n",
        "Barplots are a simple and effective way to visualize categorical data and communicate information to others.\n",
        "\n",
        "**2. What is/are the insight(s) found from the chart?**\n",
        "\n",
        "From the above graph we can see that in the Game category Subway Surfers,Candy Crush Saga, Temple Run 2 has the highest installs. In the same way I passed different category names to the function and got the top 10 installed apps.\n",
        "\n",
        "**3. Will the gained insights help creating a positive business impact?**\n",
        "\n",
        "Are there any insights that lead to negative growth? Justify with specific reason.\n",
        "\n",
        "It usually helps us to know that the top apps available on playstore and also on the basis of this visualization we can take a decision to move forward to make a new approach for developing apps in which category."
      ],
      "metadata": {
        "id": "XHkYJvQ32_4p"
      }
    },
    {
      "cell_type": "markdown",
      "source": [
        "Chart 7"
      ],
      "metadata": {
        "id": "EQvz6-eT3C9i"
      }
    },
    {
      "cell_type": "code",
      "source": [
        "#  first we mearge the both dataset on apps and use inner join\n",
        "\n",
        "merged_df = pd.merge(playstore_data, user_review_data, on='App', how = \"inner\")\n",
        "merged_df.head(5)"
      ],
      "metadata": {
        "id": "hCYQUcZ63Fdf"
      },
      "execution_count": null,
      "outputs": []
    },
    {
      "cell_type": "code",
      "source": [
        "# Correlation heatmap\n",
        "# Heat Map for the merged data frame\n",
        "plt.figure(figsize = (12,7))\n",
        "sns.heatmap(merged_df.corr(), annot= True, cmap='Greens')\n",
        "plt.title(' Heatmap for merged Dataframe', size=20)"
      ],
      "metadata": {
        "id": "5r7Ruf-p3OBO"
      },
      "execution_count": null,
      "outputs": []
    },
    {
      "cell_type": "markdown",
      "source": [
        "**1. Why did you pick the specific chart?**\n",
        "\n",
        "Heatmaps are a useful tool for visualizing and analyzing complex data sets. They provide a quick and intuitive way to understand patterns and relationships within data, making them a valuable tool in many different fields.\n",
        "\n",
        "**2. What is/are the insight(s) found from the chart?**\n",
        "\n",
        "I found that the correlation of category based on different column.\n",
        "\n",
        "**3. Will the gained insights help creating a positive business impact?**\n",
        "\n",
        "Are there any insights that lead to negative growth? Justify with specific reason.\n",
        "\n",
        "It can helps us to check weather the apps , rating , reviews and its sentiment analysis from correlation heatmap."
      ],
      "metadata": {
        "id": "UwSYmYSq3V9Z"
      }
    },
    {
      "cell_type": "markdown",
      "source": [
        "Chart 8"
      ],
      "metadata": {
        "id": "6OAYYIAw3aXm"
      }
    },
    {
      "cell_type": "code",
      "source": [
        "# in this dist plot we going to visulise the counting of size according to category wise.\n",
        "sns.displot(data=playstore_data,x='Size',kde=True,hue='Category')"
      ],
      "metadata": {
        "id": "iIXiVaHY3b3n"
      },
      "execution_count": null,
      "outputs": []
    },
    {
      "cell_type": "markdown",
      "source": [
        "**1. Why did you pick the specific chart?**\n",
        "\n",
        "A dist plot (short for \"distribution plot\") is a type of graphical representation that shows the distribution of a numerical variable in a dataset. It is a combination of a histogram and a kernel density plot.\n",
        "\n",
        "**2. What is/are the insight(s) found from the chart?**\n",
        "\n",
        "From the above graph we found that count of apps with respect to its size of apps according to the category.\n",
        "\n",
        "**3. Will the gained insights help creating a positive business impact?**\n",
        "\n",
        "Are there any insights that lead to negative growth? Justify with specific reason.\n",
        "\n",
        "Here we used to compare the distributions of different variables or subsets of data. It help in bussiness to be useful in identifying differences or similarities between groups and can help us better understand the underlying patterns and relationships in the data."
      ],
      "metadata": {
        "id": "dq3OXhER3hH5"
      }
    },
    {
      "cell_type": "markdown",
      "source": [
        "Chart 9"
      ],
      "metadata": {
        "id": "vxsv_Qk93l89"
      }
    },
    {
      "cell_type": "code",
      "source": [
        "#  we are going to visulize the review dataset or sentiment analysis\n",
        "counts = list(user_review_data['Sentiment'].value_counts())\n",
        "labels = 'Positive Reviews', 'Negative Reviews','Neutral Reviews'\n",
        "plt.rcParams['font.size'] = 20\n",
        "plt.rcParams['figure.figsize'] = (7, 12)\n",
        "plt.pie(counts, labels=labels, explode=[0.01, 0.05, 0.05],autopct=\"%.2f%%\")\n",
        "plt.title('Percentage of Review Sentiments', fontsize=20)\n",
        "plt.axis('off')\n",
        "plt.legend(bbox_to_anchor=(0.9, 0, 0.5, 1))\n",
        "plt.show()"
      ],
      "metadata": {
        "id": "0UuAfB6b3ne2"
      },
      "execution_count": null,
      "outputs": []
    },
    {
      "cell_type": "markdown",
      "source": [
        "**1. Why did you pick the specific chart?**\n",
        "\n",
        "Pie chart is a circular statistical graphic that is divided into slices to represent numerical proportions. Pie charts are often used to show the relative sizes of different categories or parts of a whole.\n",
        "\n",
        "**2. What is/are the insight(s) found from the chart?**\n",
        "\n",
        "I found that in above graph of user reviews, negative reviews - 22.10%, netural reviews -13.78 %, positive reviews - 64.12%\n",
        "\n",
        "**3. Will the gained insights help creating a positive business impact?**\n",
        "\n",
        "Are there any insights that lead to negative growth? Justify with specific reason.\n",
        "\n",
        "Gained insights helps us to know the percentage of reviews from the user reviews . For impact on bussiness we have to analyse the reviews that which category and apps got the positive reviews and which one got negative reviews this will help us to improve the apps based on reviews we got by users."
      ],
      "metadata": {
        "id": "V9B2-Vbc3osn"
      }
    },
    {
      "cell_type": "markdown",
      "source": [
        "Chart 10"
      ],
      "metadata": {
        "id": "84U5JpZA3tLf"
      }
    },
    {
      "cell_type": "code",
      "source": [
        "# Positive user reviews data\n",
        "positive_user_rview = user_review_data[user_review_data['Sentiment']=='Positive']\n",
        "positive_user_rview.head()"
      ],
      "metadata": {
        "id": "V-1BeyL-3yMc"
      },
      "execution_count": null,
      "outputs": []
    },
    {
      "cell_type": "code",
      "source": [
        "#  we analyse the app based  on sentiment\n",
        "positive_user_rview.groupby('App')['Sentiment'].value_counts().nlargest(10).plot.barh(figsize=(6,4))\n",
        "plt.title('top apps positive review')\n",
        "plt.xlabel('total number of positive reviews')"
      ],
      "metadata": {
        "id": "bbGgHbpr34MI"
      },
      "execution_count": null,
      "outputs": []
    },
    {
      "cell_type": "markdown",
      "source": [
        "**1. Why did you pick the specific chart?**\n",
        "\n",
        "A barh graph, also known as a horizontal bar chart, is a graph that represents data using horizontal bars. The length of each bar is proportional to the value it represents, with the bars usually arranged horizontally from left to right. The horizontal orientation of the bars makes it easier to label and compare categories than a vertical bar chart, especially when the labels are long or when there are many categories.\n",
        "\n",
        "**2. What is/are the insight(s) found from the chart?**\n",
        "\n",
        "I used barh graph and  got insights about 10 largest apps and its positive sentiments and number of total positive reviews.\n",
        "\n",
        "**3. Will the gained insights help creating a positive business impact?**\n",
        "\n",
        "Are there any insights that lead to negative growth? Justify with specific reason.\n",
        "\n",
        "Top app sentiment reviews help us to take some new bussiness decision to make apps better for future ."
      ],
      "metadata": {
        "id": "lvrJHxlZ39Lt"
      }
    },
    {
      "cell_type": "markdown",
      "source": [
        "Chart 11"
      ],
      "metadata": {
        "id": "TmaurjTy3-YF"
      }
    },
    {
      "cell_type": "code",
      "source": [
        "# Apps with the highest number of negative reviews\n",
        "negative_user_rv=user_review_data[user_review_data['Sentiment']=='Negative']\n",
        "negative_user_rv"
      ],
      "metadata": {
        "id": "FBtYAgU94AmO"
      },
      "execution_count": null,
      "outputs": []
    },
    {
      "cell_type": "code",
      "source": [
        "negative_user_rv.groupby('App')['Sentiment'].value_counts().nlargest(10).plot.barh(figsize=(15,8))\n",
        "plt.title(\"Top 10 negative review apps\")\n",
        "plt.xlabel('Total number of negative reviews')\n"
      ],
      "metadata": {
        "id": "laG5faQf4Iup"
      },
      "execution_count": null,
      "outputs": []
    },
    {
      "cell_type": "markdown",
      "source": [
        "**1. Why did you pick the specific chart?**\n",
        "\n",
        "A barh graph, also known as a horizontal bar chart, is a graph that represents data using horizontal bars. The length of each bar is proportional to the value it represents, with the bars usually arranged horizontally from left to right. The horizontal orientation of the bars makes it easier to label and compare categories than a vertical bar chart, especially when the labels are long or when there are many categories.\n",
        "\n",
        "**2. What is/are the insight(s) found from the chart?**\n",
        "\n",
        "I got apps and negative sentiment , total number of negative reviews and top 10 negative reviews.\n",
        "\n",
        "**3.Will the gained insights help creating a positive business impact?**\n",
        "\n",
        "Are there any insights that lead to negative growth? Justify with specific reason.\n",
        "\n",
        "Top app sentiment reviews help us to take some new bussiness decision to make apps better for future apps ."
      ],
      "metadata": {
        "id": "5VXWEh6_4M7i"
      }
    },
    {
      "cell_type": "markdown",
      "source": [
        "Chart 12 Pair Plot"
      ],
      "metadata": {
        "id": "3CUi_UNK4OGl"
      }
    },
    {
      "cell_type": "code",
      "source": [
        "#  pairwise relationships between different variables in a dataset.\n",
        "sns.pairplot(data=playstore_data)"
      ],
      "metadata": {
        "id": "xQgflw6b4P7u"
      },
      "execution_count": null,
      "outputs": []
    },
    {
      "cell_type": "markdown",
      "source": [
        "**1. Why did you pick the specific chart?**\n",
        "\n",
        "A pair plot is a type of data visualization that shows pairwise relationships between variables in a dataset. It is essentially a matrix of scatter plots, where each scatter plot shows the relationship between two variables. The diagonal of the matrix shows a histogram or density plot of each variable.\n",
        "\n",
        "**2. What is/are the insight(s) found from the chart?**\n",
        "\n",
        "Pair plots are useful for exploring the relationships between multiple variables simultaneously. All variable rating,reviews,size,installs,price  simultaneously show the relationship between each variable."
      ],
      "metadata": {
        "id": "J6erhTEb4doH"
      }
    },
    {
      "cell_type": "markdown",
      "source": [
        "## **5. Solution to Business Objective**"
      ],
      "metadata": {
        "id": "JcMwzZxoAimU"
      }
    },
    {
      "cell_type": "markdown",
      "source": [
        "**What do you suggest the client to achieve Business Objective ?**\n",
        "\n",
        "Explain Briefly."
      ],
      "metadata": {
        "id": "8G2x9gOozGDZ"
      }
    },
    {
      "cell_type": "markdown",
      "source": [
        "Facilitating app distribution: The Play Store's primary objective is to facilitate the distribution of apps to users of Android devices. This includes providing a platform for developers to upload their apps, managing the review and approval process, and making the apps available for download to users.\n",
        "\n",
        "Maximizing app downloads: The Play Store aims to maximize the number of app downloads by users. This is achieved through various means such as featuring popular apps, providing personalized app recommendations, and optimizing search results.\n",
        "\n",
        "Generating revenue: The Play Store generates revenue through the sale of paid apps, in-app purchases, and advertising. The platform aims to optimize revenue generation by providing developers with tools and resources to monetize their apps and by offering targeted advertising opportunities to advertisers.\n",
        "\n",
        "Ensuring app quality and security: The Play Store aims to ensure that the apps available on its platform are of high quality and free from malware. This is achieved through a rigorous review and approval process, as well as ongoing monitoring and enforcement of policies.\n",
        "\n",
        "Supporting developers: The Play Store aims to support developers by providing them with tools and resources to build and distribute their apps, as well as access to a large user base. This includes providing analytics and other performance metrics, as well as opportunities for promotion and monetization.\n",
        "\n",
        "Overall, the Play Store's business objectives are centered around facilitating app distribution, maximizing app downloads, generating revenue, ensuring app quality and security, and supporting developers.\n",
        "\n",
        "---Client have to more focus on this to achieve bussiness objective.\n",
        "\n",
        "1.Developing apps related to the least categories as they are not explored much. Like events and beauty.\n",
        "\n",
        "2.Most of the apps are Free, so focusing on free app is more important. Focusing more on content available for Everyone will increase the chances of getting the highest installs.\n",
        "\n",
        "3.They need to focus on updating their apps regularly, so that it will attract more users.\n",
        "\n",
        "4.They need to keep in mind that the sentiments of the user keep varying as they keep using the app, so they should focus more on users needs and features."
      ],
      "metadata": {
        "id": "pASKb0qOza21"
      }
    },
    {
      "cell_type": "markdown",
      "source": [
        "# **Conclusion**"
      ],
      "metadata": {
        "id": "gCX9965dhzqZ"
      }
    },
    {
      "cell_type": "markdown",
      "source": [
        "Overall conclusion of the playstore apps and user reviews dataset is the main vision to improve the quality and performance of application based on the customer rating and reviews . Positive reviews helps us to move forward to make next move toward our progress and negative reviews helps us to know our mistakes we have done previously in application so we have to improve that."
      ],
      "metadata": {
        "id": "Fjb1IsQkh3yE"
      }
    },
    {
      "cell_type": "markdown",
      "source": [
        "### ***Hurrah! You have successfully completed your EDA Capstone Project !!!***"
      ],
      "metadata": {
        "id": "gIfDvo9L0UH2"
      }
    }
  ]
}